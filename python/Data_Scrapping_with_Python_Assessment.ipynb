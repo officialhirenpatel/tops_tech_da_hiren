{
  "nbformat": 4,
  "nbformat_minor": 0,
  "metadata": {
    "colab": {
      "provenance": []
    },
    "kernelspec": {
      "name": "python3",
      "display_name": "Python 3"
    },
    "language_info": {
      "name": "python"
    }
  },
  "cells": [
    {
      "cell_type": "code",
      "source": [
        "import requests\n",
        "from bs4 import BeautifulSoup"
      ],
      "metadata": {
        "id": "ZUV7jnZrR3TR"
      },
      "execution_count": 2,
      "outputs": []
    },
    {
      "cell_type": "code",
      "execution_count": null,
      "metadata": {
        "id": "WGJ15RyYCtXQ"
      },
      "outputs": [],
      "source": [
        "web = requests.get(\"http://quotes.toscrape.com/\")\n",
        "web"
      ]
    },
    {
      "cell_type": "code",
      "source": [
        "web.content"
      ],
      "metadata": {
        "id": "ysFMtZoYRz1b"
      },
      "execution_count": null,
      "outputs": []
    },
    {
      "cell_type": "code",
      "source": [
        "soup = BeautifulSoup(web.content,'html.parser')"
      ],
      "metadata": {
        "id": "KGAVXoGERz4U"
      },
      "execution_count": 5,
      "outputs": []
    },
    {
      "cell_type": "code",
      "source": [
        "soup"
      ],
      "metadata": {
        "id": "lqZZKsBbRz6q"
      },
      "execution_count": null,
      "outputs": []
    },
    {
      "cell_type": "code",
      "source": [
        "print(soup.prettify())\n",
        "#print(soup.title)\n",
        "#print(soup.a)\n",
        "#print(soup.p)\n",
        "#print(soup.h1)"
      ],
      "metadata": {
        "id": "hQfbOEDORz_C"
      },
      "execution_count": null,
      "outputs": []
    },
    {
      "cell_type": "code",
      "source": [
        "print(soup.find('p'))                                 # p, a, div,...\n",
        "#print(soup.find_all('p'))"
      ],
      "metadata": {
        "id": "6Gf4HehGSbCj"
      },
      "execution_count": null,
      "outputs": []
    },
    {
      "cell_type": "code",
      "source": [
        "print(soup.find('div'))\n",
        "#print(soup.find_all('div'))\n",
        "#print(soup.find_all('div')[2])\n",
        "#print(soup.find('div', class_='row'))"
      ],
      "metadata": {
        "id": "OCNP40IjSbII"
      },
      "execution_count": null,
      "outputs": []
    },
    {
      "cell_type": "code",
      "source": [
        "print(soup.find('a'))\n",
        "#print(soup.find_all('a'))"
      ],
      "metadata": {
        "id": "ZnaKL1S5SbFc"
      },
      "execution_count": null,
      "outputs": []
    },
    {
      "cell_type": "code",
      "source": [
        "links = [a['href'] for a in soup.find_all('a',href=True)]\n",
        "links_1 = []\n",
        "for i in links:\n",
        "  if len(i) < 2:\n",
        "    continue\n",
        "  else:\n",
        "    links_1.append(i)\n",
        "links_1"
      ],
      "metadata": {
        "id": "pzKoXVnjSyWD"
      },
      "execution_count": null,
      "outputs": []
    },
    {
      "cell_type": "code",
      "source": [
        "line = soup.find_all('p')\n",
        "line"
      ],
      "metadata": {
        "id": "yzIw5yC1NVHM"
      },
      "execution_count": null,
      "outputs": []
    },
    {
      "cell_type": "code",
      "source": [
        "for i in line:\n",
        "  print(i.text)"
      ],
      "metadata": {
        "id": "QNqM6h5GNVKL"
      },
      "execution_count": null,
      "outputs": []
    },
    {
      "cell_type": "code",
      "source": [
        "s_line = soup.find(\"div\",class_ =\"container\")\n",
        "s_line"
      ],
      "metadata": {
        "id": "b1Cw-G7ONrut"
      },
      "execution_count": null,
      "outputs": []
    },
    {
      "cell_type": "code",
      "source": [
        "line_1 = s_line.find_all('p')\n",
        "line_1"
      ],
      "metadata": {
        "id": "LKlPXF4INr0a"
      },
      "execution_count": null,
      "outputs": []
    },
    {
      "cell_type": "code",
      "source": [
        "for i1 in line_1:\n",
        "  print(i1.text)"
      ],
      "metadata": {
        "id": "s5RBPDI3Nr-a"
      },
      "execution_count": null,
      "outputs": []
    },
    {
      "cell_type": "code",
      "source": [
        "#links"
      ],
      "metadata": {
        "id": "GbogKK47HFRG"
      },
      "execution_count": null,
      "outputs": []
    },
    {
      "cell_type": "code",
      "source": [
        "for i in soup.find_all('a'):\n",
        "  print(i.get('href'))"
      ],
      "metadata": {
        "id": "Z-CPqD_IHtJ1"
      },
      "execution_count": null,
      "outputs": []
    },
    {
      "cell_type": "code",
      "source": [
        "#Image\n",
        "soup.find_all('img')"
      ],
      "metadata": {
        "id": "y91p9buHH3sO"
      },
      "execution_count": null,
      "outputs": []
    },
    {
      "cell_type": "code",
      "source": [
        "for i in soup.find_all('img'):\n",
        "  print(i.get(\"src\"))"
      ],
      "metadata": {
        "id": "puSP0U-ZINKl"
      },
      "execution_count": 41,
      "outputs": []
    },
    {
      "cell_type": "code",
      "source": [
        "text = []\n",
        "for i in soup.find_all('p'):\n",
        "    text.append(i.text)\n",
        "text"
      ],
      "metadata": {
        "id": "w5dYbfD4JWb9"
      },
      "execution_count": null,
      "outputs": []
    },
    {
      "cell_type": "code",
      "source": [
        "with open(\"test.txt\", \"w\") as file:\n",
        "    file.write(\"\\n\".join(text))"
      ],
      "metadata": {
        "id": "YOB1sp2sITbt"
      },
      "execution_count": 43,
      "outputs": []
    },
    {
      "cell_type": "code",
      "source": [],
      "metadata": {
        "id": "sI6zRqqUPZl7"
      },
      "execution_count": null,
      "outputs": []
    },
    {
      "cell_type": "code",
      "source": [
        "quotes = [quote.text for quote in soup.find_all('span', class_='text')]\n",
        "authors = [author.text for author in soup.find_all('small', class_='author')]"
      ],
      "metadata": {
        "id": "RMisI1L6e_gG"
      },
      "execution_count": 44,
      "outputs": []
    },
    {
      "cell_type": "code",
      "source": [
        "for q, a in zip(quotes, authors):\n",
        "    print(f\"Quote: {q}\\nAuthor: {a}\\n\")"
      ],
      "metadata": {
        "id": "MHLplTg_fAoe"
      },
      "execution_count": null,
      "outputs": []
    },
    {
      "cell_type": "code",
      "source": [
        "import pandas as pd\n",
        "df = pd.DataFrame({'Quote': quotes, 'Author': authors})"
      ],
      "metadata": {
        "id": "3BkKiweHf0ye"
      },
      "execution_count": 46,
      "outputs": []
    },
    {
      "cell_type": "code",
      "source": [
        "df"
      ],
      "metadata": {
        "id": "A0r-_RSX8Tgv"
      },
      "execution_count": null,
      "outputs": []
    },
    {
      "cell_type": "code",
      "source": [
        "df.to_csv('quotes.csv', index=False)"
      ],
      "metadata": {
        "id": "Tmy2dfof8bfG"
      },
      "execution_count": null,
      "outputs": []
    }
  ]
}