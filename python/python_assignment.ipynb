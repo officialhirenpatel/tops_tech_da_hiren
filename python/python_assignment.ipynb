{
  "cells": [
    {
      "cell_type": "code",
      "source": [
        "'''\n",
        "\n",
        "1) What are the types of Applications?\n",
        "    1. Web Development\n",
        "    2. Machine Learning and Artificial Intelligence\n",
        "    3. Data Science\n",
        "    4. Game Development\n",
        "    5. Audio and Visual Applications\n",
        "    6. Software Development\n",
        "    7. CAD Applications\n",
        "    8. Business Applications\n",
        "    9. Desktop GUI\n",
        "    10. Web Scraping Application\n",
        "\n",
        "2) What is programing?\n",
        "    Programming is the process of creating a set of instructions that tell a computer how to perform a specific task or solve a problem.\n",
        "\n",
        "3) What is Python?\n",
        "    Python is a high-level, interpreted programming language known for its readability and versatility."
      ],
      "metadata": {
        "id": "AGh4ScUjblPX"
      },
      "execution_count": null,
      "outputs": []
    },
    {
      "cell_type": "code",
      "source": [
        "# 4) Write a Python program to check if a number is positive, negative or zero.\n",
        "\n",
        "num = int(input(\"Enter a number: \"))\n",
        "if num > 0:\n",
        "   print(\"Positive number\")\n",
        "elif num == 0:\n",
        "   print(\"Zero\")\n",
        "else:\n",
        "   print(\"Negative number\")"
      ],
      "metadata": {
        "id": "VQIjnWHwc938"
      },
      "execution_count": null,
      "outputs": []
    },
    {
      "cell_type": "code",
      "source": [
        "# 5) Write a Python program to get the Factorial number of given numbers.\n",
        "\n",
        "num=int(input('enter number = '))\n",
        "f=1\n",
        "if num < 0:\n",
        "   print(\"Sorry, factorial does not exist for negative numbers\")\n",
        "elif num == 0:\n",
        "   print(\"The factorial of 0 is 1\")\n",
        "else:\n",
        "   for i in range(1,num + 1):\n",
        "       f = f*i\n",
        "   print(\"The factorial of \", num ,\" is \", f)"
      ],
      "metadata": {
        "id": "CoArlkEfe3cj"
      },
      "execution_count": null,
      "outputs": []
    },
    {
      "cell_type": "code",
      "source": [
        "# 6) Write a Python program to get the Fibonacci series of given range.\n",
        "\n",
        "a = int(input(\"How many terms : \"))\n",
        "\n",
        "n1, n2 = 0, 1\n",
        "count = 0\n",
        "new = 0\n",
        "\n",
        "if a <= 0:\n",
        "   print(\"Please enter a positive integer\")\n",
        "elif a == 1:\n",
        "   print(\"Fibonacci sequence upto \", a ,\" : \")\n",
        "   print(0)\n",
        "else:\n",
        "   print(\"Fibonacci sequence : \")\n",
        "   while count < a:\n",
        "       print(n1)\n",
        "       new = n1 + n2\n",
        "\n",
        "       n1 = n2\n",
        "       n2 = new\n",
        "\n",
        "       count += 1"
      ],
      "metadata": {
        "id": "1aFRjLzHyi7T"
      },
      "execution_count": null,
      "outputs": []
    },
    {
      "cell_type": "code",
      "source": [
        "'''\n",
        "\n",
        "7) How memory is managed in Python?\n",
        "\n",
        "Memory allocation can be defined as allocating a block of space in the computer memory to a program.\n",
        "In Python memory allocation and deallocation method is automatic\n",
        " as the Python developers created garbage collector for Python\n",
        "so that the user does not have to do manual garbage collection.\n",
        "\n",
        "# 8) What is the purpose continuing statement in python?\n",
        "\n",
        "The continue statement in Python is a control flow statement used within loops (both for and while loops).\n",
        "Its primary purpose is to skip the remaining code within the current iteration of the loop\n",
        "and immediately jump to the beginning of the next iteration."
      ],
      "metadata": {
        "id": "0ee8L-P-0_Ww"
      },
      "execution_count": null,
      "outputs": []
    },
    {
      "cell_type": "code",
      "source": [
        "# 9) Write python program that swap two number with temp variable and without temp variable.\n",
        "\n",
        "\n",
        "#with temp variable\n",
        "\n",
        "p=12\n",
        "q=15\n",
        "a=0\n",
        "\n",
        "a=p\n",
        "p=q\n",
        "q=a\n",
        "\n",
        "print(p,'\\n',q)\n",
        "\n",
        "\n",
        "#without temp variable\n",
        "\n",
        "p,q=10,17\n",
        "p,q=q,p\n",
        "print(p,'\\n',q)"
      ],
      "metadata": {
        "id": "GPi9f4K019Nu"
      },
      "execution_count": null,
      "outputs": []
    },
    {
      "cell_type": "code",
      "source": [
        "# 10) Write a Python program to find whether a given number is even or odd, print out an appropriate message to the user.\n",
        "\n",
        "a=int(input('enter positive num : '))\n",
        "\n",
        "if (a<0):\n",
        "  print('please enter positive value')\n",
        "elif(a==0 or a%2==0):\n",
        "  print('entered number is even')\n",
        "else:\n",
        "  print('entered number is odd')"
      ],
      "metadata": {
        "id": "hYboQ9bY3QiJ"
      },
      "execution_count": null,
      "outputs": []
    },
    {
      "cell_type": "code",
      "source": [
        "# 11) Write a Python program to test whether a passed letter is a vowel or not.\n",
        "\n",
        "a=input('enter 1 letter : ')\n",
        "b=['a','e','i','o','u']\n",
        "\n",
        "if a in b:\n",
        "  print(a,' is vowel')\n",
        "else:\n",
        "  print(a,' is not vowel')"
      ],
      "metadata": {
        "id": "vtki_cQg5rU2"
      },
      "execution_count": null,
      "outputs": []
    },
    {
      "cell_type": "code",
      "source": [
        "# 12) Write a Python program to sum of three given integers. However, if two values are equal sum will be zero.\n",
        "\n",
        "a=int(input('enter num1 : '))\n",
        "b=int(input('enter num2 : '))\n",
        "c=int(input('enter num3 : '))\n",
        "\n",
        "if(a==b or b==c or c==a):\n",
        "  print('sum is 0')\n",
        "else:\n",
        "  print('sum is : ',a+b+c)"
      ],
      "metadata": {
        "id": "453Z1ppE8nJ1"
      },
      "execution_count": null,
      "outputs": []
    },
    {
      "cell_type": "code",
      "source": [
        "# 13) Write a Python program that will return true if the two given integer values are equal or their sum or difference is 5.\n",
        "\n",
        "a=int(input('enter num1 : '))\n",
        "b=int(input('enter num2 : '))\n",
        "\n",
        "if(a==b or (a+b)==5 or (a-b)==5 or (b-a)==5):\n",
        "   print(True)"
      ],
      "metadata": {
        "id": "r7ksh02i9pH2"
      },
      "execution_count": null,
      "outputs": []
    },
    {
      "cell_type": "code",
      "source": [
        "# 14) Write a python program to sum of the first n positive integers.\n",
        "\n",
        "a=int(input('enter number : '))\n",
        "\n",
        "n=0\n",
        "count=0\n",
        "n1=0\n",
        "n2=1\n",
        "\n",
        "while (a>count):\n",
        "  n=n1+n2\n",
        "\n",
        "  n2 += 1\n",
        "  n1 = n\n",
        "\n",
        "  count += 1\n",
        "\n",
        "print(n)"
      ],
      "metadata": {
        "id": "ljog7FCs-agF"
      },
      "execution_count": null,
      "outputs": []
    },
    {
      "cell_type": "code",
      "source": [
        "# 15) Write a Python program to calculate the length of a string.\n",
        "\n",
        "print(len('hello python'))"
      ],
      "metadata": {
        "id": "H_uhJ6plAldi"
      },
      "execution_count": null,
      "outputs": []
    },
    {
      "cell_type": "code",
      "source": [
        "# 16) Write a Python program to count the number of characters(character frequency) in a string.\n",
        "\n",
        "a=('hello world')\n",
        "dict={}\n",
        "b=dict.keys()\n",
        "\n",
        "for i in a:\n",
        "  if i in b:\n",
        "    dict[i] += 1\n",
        "  else:\n",
        "    dict[i]=1\n",
        "print(dict)"
      ],
      "metadata": {
        "id": "4NVvG6qCCDHM"
      },
      "execution_count": null,
      "outputs": []
    },
    {
      "cell_type": "code",
      "source": [
        "'''\n",
        "\n",
        "17) What are negative indexes and why are they used?\n",
        "\n",
        "  Negative indexes in programming, particularly in languages like Python,\n",
        "provide a way to access elements in sequences (like lists, tuples, and strings) starting from the end of the sequence, rather than the beginning.\n",
        "\n",
        "  They are used because they offer a convenient and efficient way to refer to elements near the end of a sequence without needing to know the exact length of the sequence."
      ],
      "metadata": {
        "id": "uCYPVvsIFoLW"
      },
      "execution_count": null,
      "outputs": []
    },
    {
      "cell_type": "code",
      "source": [
        "# 18) Write a Python program to count occurrences of a substring in a string.\n",
        "\n",
        "'hello hel helly hellaro'.count('hell')"
      ],
      "metadata": {
        "id": "54PLEfZqH7Td"
      },
      "execution_count": null,
      "outputs": []
    },
    {
      "cell_type": "code",
      "source": [
        "# 19) Write a Python program to count the occurrences of each word in a given sentence.\n",
        "\n",
        "a='hello how'\n",
        "dict={}\n",
        "b=dict.keys()\n",
        "for i in a:\n",
        "  if i in b:\n",
        "    dict[i] += 1\n",
        "  else:\n",
        "    dict[i] = 1\n",
        "print(b.mapping)"
      ],
      "metadata": {
        "id": "fpYUuUmeIkxm"
      },
      "execution_count": null,
      "outputs": []
    },
    {
      "cell_type": "code",
      "source": [
        "# 20) Write a Python program to get a single string from two given strings,\n",
        "#     separated by a space and swap the first two characters of each string.\n",
        "\n",
        "a='abcdef'\n",
        "b='pqrstuvw'\n",
        "\n",
        "new_a = b[:2]+a[2:]\n",
        "new_b = a[:2]+b[2:]\n",
        "\n",
        "print(new_a, new_b)"
      ],
      "metadata": {
        "id": "HBK_OSXqZ27B"
      },
      "execution_count": null,
      "outputs": []
    },
    {
      "cell_type": "code",
      "source": [
        "# 21) Write a Python program to add 'in' at the end of a given string (length should be at least 3).\n",
        "#     If the given string already ends with 'ing' then add 'ly'\n",
        "#     instead if the string length of the given string is less than 3, leave it unchanged.\n",
        "\n",
        "a='helloing'\n",
        "\n",
        "if(a.endswith('ing')):\n",
        "  print(a+'ly')\n",
        "\n",
        "if(len(a)<3):\n",
        "  print(a)\n",
        "elif(len(a)>3):\n",
        "  print(a+'in')"
      ],
      "metadata": {
        "id": "WlwgcGGwbYHi"
      },
      "execution_count": null,
      "outputs": []
    },
    {
      "cell_type": "code",
      "source": [
        "# 22) Write a Python function to reverses a string if its length is a multiple of 4.\n",
        "\n",
        "a='hello ab'\n",
        "\n",
        "if(len(a)%4==0):\n",
        "  print(a[::-1])               #print(''.join(reversed(a)))"
      ],
      "metadata": {
        "id": "29l3trZ9ej7o"
      },
      "execution_count": null,
      "outputs": []
    },
    {
      "cell_type": "code",
      "source": [
        "# 23) Write a Python program to get a string made of the first 2 and the last 2 chars from a given a string.\n",
        "#     If the string length is less than 2, return instead of the empty string.\n",
        "\n",
        "a='hello world'\n",
        "\n",
        "if(len(a)<2):\n",
        "  print('')\n",
        "else:\n",
        "  print(a[:2]+a[-2:])"
      ],
      "metadata": {
        "id": "8k5JJrn2hlNL"
      },
      "execution_count": null,
      "outputs": []
    },
    {
      "cell_type": "code",
      "source": [
        "# 24) Write a Python function to insert a string in the middle of a string.\n",
        "\n",
        "a='hiren patel'\n",
        "b='hello'\n",
        "def timepass(a,b):\n",
        "  z=len(a)//2\n",
        "  c = a[:z]+b+a[z:]\n",
        "  print(c)\n",
        "timepass(a,b)"
      ],
      "metadata": {
        "id": "kmELCfzWm__t"
      },
      "execution_count": null,
      "outputs": []
    },
    {
      "cell_type": "code",
      "source": [
        "'''\n",
        "\n",
        "25) What is List? How will you reverse a list?\n",
        "\n",
        "    list is a built-in data structure used to store an ordered collection of items.\n",
        "    reverse a list is done by using the reverse() method.\n",
        "\n",
        "26) How will you remove last object from a list?\n",
        "\n",
        "    there are two ways\n",
        "    -using del statement with giving -1 index\n",
        "    -using pop function\n",
        "\n",
        "27) Suppose list1 is [2, 33, 222, 14, and 25], what is list1 [-1]?\n",
        "\n",
        "    25\n",
        "\n",
        "28) Differentiate between append () and extend () methods?\n",
        "\n",
        "    append and extend both are built-in method used in list.\n",
        "    append join 1 value in end of the list\n",
        "    and\n",
        "    extend join 1 or more values in end of the list."
      ],
      "metadata": {
        "id": "qyvzflJmnuOH"
      },
      "execution_count": null,
      "outputs": []
    },
    {
      "cell_type": "code",
      "source": [
        "# 29) Write a Python function to get the largest number, smallest num and sum of all from a list.\n",
        "\n",
        "a=[1,2,3,4,5]\n",
        "\n",
        "def again(a):\n",
        "  print('largest : ',max(a))\n",
        "  print('smallest : ',min(a))\n",
        "  print('sum : ',sum(a))\n",
        "\n",
        "again(a)"
      ],
      "metadata": {
        "id": "D6GOFPCDrh9x"
      },
      "execution_count": null,
      "outputs": []
    },
    {
      "cell_type": "code",
      "source": [
        "'''\n",
        "\n",
        "30) How will you compare two lists?\n",
        "\n",
        "    by using Python's built-in equality operator ( == )"
      ],
      "metadata": {
        "id": "dJ08nIqKtDAj"
      },
      "execution_count": null,
      "outputs": []
    },
    {
      "cell_type": "code",
      "source": [
        "# 31) Write a Python program to count the number of strings\n",
        "#     where the string length is 2 or more and the first and last character are same from a given list of strings.\n",
        "\n",
        "a=['abc','1231','pop','dock','sas']\n",
        "b=0\n",
        "\n",
        "for i in a:\n",
        "  if(len(i)>1 and i[0]==i[-1]):\n",
        "    b += 1\n",
        "\n",
        "print(b)"
      ],
      "metadata": {
        "id": "khuXupjWuIVc"
      },
      "execution_count": null,
      "outputs": []
    },
    {
      "cell_type": "code",
      "source": [
        "# 32) Write a Python program to remove duplicates from a list.\n",
        "\n",
        "a=[1,2,3,2]\n",
        "b=list(set(a))\n",
        "\n",
        "print(b)"
      ],
      "metadata": {
        "id": "-bwF7UtdwhkZ"
      },
      "execution_count": null,
      "outputs": []
    },
    {
      "cell_type": "code",
      "source": [
        "# 33) Write a Python program to check a list is empty or not.\n",
        "\n",
        "a=[]\n",
        "\n",
        "if(len(a)<1):\n",
        "  print('list is empty')\n",
        "else:\n",
        "  print('list is not empty')"
      ],
      "metadata": {
        "id": "aunfA04ew-MJ"
      },
      "execution_count": null,
      "outputs": []
    },
    {
      "cell_type": "code",
      "source": [
        "# 34) Write a Python function that takes two lists and returns true if they have at least one common member.\n",
        "\n",
        "a=[1,2,3,4]\n",
        "b=[5,6,7,3]\n",
        "\n",
        "def common_num(a,b):\n",
        "  for i in a:\n",
        "    if b.count(i)>0:\n",
        "      return True\n",
        "\n",
        "common_num(a,b)"
      ],
      "metadata": {
        "id": "ZnaYSJoTytga"
      },
      "execution_count": null,
      "outputs": []
    },
    {
      "cell_type": "code",
      "source": [
        "# 35) Write a Python program to generate and print a list of first and last 5 elements where the values are square of numbers between 1 and 30.\n",
        "\n",
        "a=[]\n",
        "b=[]\n",
        "\n",
        "for i in range(1,31):\n",
        "  a.append(i*i)\n",
        "  if i<6 or i>25:\n",
        "    b.append(i*i)\n",
        "\n",
        "print(a)\n",
        "print(b)"
      ],
      "metadata": {
        "id": "xBr5UQLxxw9O"
      },
      "execution_count": null,
      "outputs": []
    },
    {
      "cell_type": "code",
      "source": [
        "# 36) Write a Python function that takes a list and returns a new list with unique elements of the first list.\n",
        "\n",
        "a=[1,2,3,4,2,3]\n",
        "\n",
        "def unique_val(a):\n",
        "  return list(set(a))\n",
        "\n",
        "unique_val(a)"
      ],
      "metadata": {
        "id": "BqW8bLFI0phm"
      },
      "execution_count": null,
      "outputs": []
    },
    {
      "cell_type": "code",
      "source": [
        "# 37) Write a Python program to convert a list of characters into a string.\n",
        "\n",
        "a = ['hello', ' hiren']\n",
        "\n",
        "b = ''.join(a)\n",
        "\n",
        "print(b)"
      ],
      "metadata": {
        "id": "pLxMxchg2_PB"
      },
      "execution_count": null,
      "outputs": []
    },
    {
      "cell_type": "code",
      "source": [
        "# 38) Write a Python program to select an item randomly from a list.\n",
        "\n",
        "import random\n",
        "print(random.choice([1,2,3,4]))"
      ],
      "metadata": {
        "id": "UaBKrUcQ3r4I"
      },
      "execution_count": null,
      "outputs": []
    },
    {
      "cell_type": "code",
      "source": [
        "# 39) Write a Python program to find the second smallest number in a list.\n",
        "\n",
        "a=[4,12,78,2,45,5,1]\n",
        "a.sort()\n",
        "print(a[1])"
      ],
      "metadata": {
        "id": "g5jLQMMX4iIh"
      },
      "execution_count": null,
      "outputs": []
    },
    {
      "cell_type": "code",
      "source": [
        "# 40) Write a Python program to get unique values from a list.\n",
        "\n",
        "a=[1,2,1,5,2,6]\n",
        "print(list(set(a)))"
      ],
      "metadata": {
        "id": "bOcuQj4g5YRy"
      },
      "execution_count": null,
      "outputs": []
    },
    {
      "cell_type": "code",
      "source": [
        "# 41) Write a Python program to check whether a list contains a sub list.\n",
        "\n",
        "a=[1,2,3,6,5]\n",
        "b=[3,5]\n",
        "\n",
        "for i in b:\n",
        "    if(a.count(i)<=0):\n",
        "      print('list doesnot contains a sub list')\n",
        "\n",
        "print('list contains a sub list')"
      ],
      "metadata": {
        "id": "99DHNGrx53_Y"
      },
      "execution_count": null,
      "outputs": []
    },
    {
      "cell_type": "code",
      "source": [
        "# 42) Write a Python program to split a list into different variables.\n",
        "\n",
        "a=[1,2,3,4,5,6,7]\n",
        "b=[]\n",
        "c=[]\n",
        "\n",
        "d=len(a)\n",
        "\n",
        "for i in range(d//2):\n",
        "  b.append(a[i])\n",
        "  c.append(a[-(i+1)])\n",
        "\n",
        "if(d%2!=0):\n",
        "  b.append(a[(d//2)])\n",
        "\n",
        "print(b)\n",
        "c.reverse()\n",
        "print(c)"
      ],
      "metadata": {
        "id": "N9Kgckl-7shJ"
      },
      "execution_count": null,
      "outputs": []
    },
    {
      "cell_type": "code",
      "source": [
        "'''\n",
        "\n",
        "43) What is tuple? Difference between list and tuple.\n",
        "\n",
        "    A tuple is an ordered, immutable sequence of elements in Python.\n",
        "    This means that once a tuple is created, its elements cannot be changed, added, or removed.\n",
        "    They are defined using parentheses ().\n",
        "\n",
        "    A list, on the other hand, is an ordered, mutable sequence of elements in Python.\n",
        "    This means that lists can be modified after creation by adding, removing, or changing elements.\n",
        "    Lists are defined using square brackets []."
      ],
      "metadata": {
        "id": "1vEl7xp99LhV"
      },
      "execution_count": null,
      "outputs": []
    },
    {
      "cell_type": "code",
      "source": [
        "# 44) Write a Python program to create a tuple with different data types.\n",
        "\n",
        "a = (10, 'Hello', 3.14, True, [1, 2, 3], (4, 5), complex(3,5), {'a','b','a'}, {1:'hiren',2:'sunny'})\n",
        "print(a)"
      ],
      "metadata": {
        "id": "4e5dJaqPUJg9"
      },
      "execution_count": null,
      "outputs": []
    },
    {
      "cell_type": "code",
      "source": [
        "# 45) Write a Python program to unzip a list of tuples into individual lists.\n",
        "\n",
        "a = [(1, 2), (3, 4), (8, 9)]\n",
        "\n",
        "b = list(zip(*a))\n",
        "\n",
        "print(a)\n",
        "print(b, '\\n')\n",
        "\n",
        "\n",
        "\n",
        "a = [(1, 2, 3), (3, 4, 5), (8, 9)]\n",
        "\n",
        "b = list(zip(*a))\n",
        "\n",
        "print(a)\n",
        "print(b,'\\n')\n",
        "\n",
        "\n",
        "\n",
        "a = [(1, 2, 3), (4, 5, 6), (8, 9, 10)]\n",
        "\n",
        "b = list(zip(*a))\n",
        "\n",
        "print(a)\n",
        "print(b)"
      ],
      "metadata": {
        "id": "45mb5cyWVKzG"
      },
      "execution_count": null,
      "outputs": []
    },
    {
      "cell_type": "code",
      "source": [
        "# 46) Write a Python program to convert a list of tuples into a dictionary.\n",
        "\n",
        "a = [(1,'x'),(2,'y')]\n",
        "b={}\n",
        "\n",
        "for i,j in a:\n",
        "  b.setdefault(i,j)\n",
        "\n",
        "print(b)"
      ],
      "metadata": {
        "id": "yCqj_paKXL9L"
      },
      "execution_count": null,
      "outputs": []
    },
    {
      "cell_type": "code",
      "source": [
        "'''\n",
        "\n",
        "    47) How will you create a dictionary using tuples in python?\n",
        "\n",
        "    A dictionary can be created from tuples in Python by using the dict() constructor with an iterable of key-value pair tuples."
      ],
      "metadata": {
        "id": "hvu_Xr_SZblO"
      },
      "execution_count": null,
      "outputs": []
    },
    {
      "cell_type": "code",
      "source": [
        "# 48) Write a Python script to sort (ascending and descending) a dictionary by value.\n",
        "\n",
        "import operator\n",
        "\n",
        "a={'h':3,'g':1,'k':4}\n",
        "\n",
        "b=dict( sorted(a.items(), key=operator.itemgetter(1)) )\n",
        "print('ascending : ',b)\n",
        "\n",
        "c=dict( sorted(a.items(), key=operator.itemgetter(1), reverse=True) )\n",
        "print('descending : ',c)"
      ],
      "metadata": {
        "id": "iqP7yVv-cm7H"
      },
      "execution_count": null,
      "outputs": []
    },
    {
      "cell_type": "code",
      "source": [
        "# 49) Write a Python script to concatenate following dictionaries to create a new one.\n",
        "\n",
        "a={1:'a',2:'b'}\n",
        "b={3:'d',4:'c'}\n",
        "c={}\n",
        "\n",
        "for i in (a,b):\n",
        "  c.update(i)\n",
        "\n",
        "print(c)"
      ],
      "metadata": {
        "id": "DbRkNbxDdOvo"
      },
      "execution_count": null,
      "outputs": []
    },
    {
      "cell_type": "code",
      "source": [
        "# 50) Write a Python script to check if a given key already exists in a dictionary.\n",
        "\n",
        "a={1:'a',2:'b',3:'d',4:'c'}\n",
        "k=4\n",
        "\n",
        "if(k in a):\n",
        "  print('yes')\n",
        "else:\n",
        "  print('no')"
      ],
      "metadata": {
        "id": "qMRrdRibhnU-"
      },
      "execution_count": null,
      "outputs": []
    },
    {
      "cell_type": "code",
      "source": [
        "'''\n",
        "\n",
        "    51) How Do You Traverse Through a Dictionary Object in Python?\n",
        "\n",
        "    Traversing a dictionary object in Python can be accomplished in several ways,\n",
        "    depending on whether the keys, values, or both are needed. Iterating over Keys (Default).\n",
        "    To Loop through values in a dictionary you can use built-in methods\n",
        "    like values(), items() or even directly iterate over the dictionary to access values with keys.\n",
        "\n",
        "    52) How Do You Check the Presence of a Key in A Dictionary?\n",
        "\n",
        "    To check the presence of a key in a dictionary,\n",
        "    the most common and Pythonic method is to use the in operator.\n",
        "      The in operator directly checks if a given key exists within the dictionary's keys and returns True if it does, and False otherwise."
      ],
      "metadata": {
        "id": "QjPPjjL5jh9w"
      },
      "execution_count": null,
      "outputs": []
    },
    {
      "cell_type": "code",
      "source": [
        "# 53) Write a Python script to print a dictionary where the keys are numbers between 1 and 15.\n",
        "\n",
        "a={}\n",
        "\n",
        "for i in range(1, 16):\n",
        "    a[i] = i*i\n",
        "\n",
        "print(a)"
      ],
      "metadata": {
        "id": "t_WiB2BMk3np"
      },
      "execution_count": null,
      "outputs": []
    },
    {
      "cell_type": "code",
      "source": [
        "# 54) Write a Python program to check multiple keys exists in a dictionary\n",
        "\n",
        "a={1:'a',2:'b',3:'d',1:'c'}\n",
        "\n",
        "print(a.keys() >= {3,2})\n",
        "print(a.keys() >= {'c','a'})\n",
        "print(a.keys() >= {'b',1})"
      ],
      "metadata": {
        "id": "EVht7aoLmeCs"
      },
      "execution_count": null,
      "outputs": []
    },
    {
      "cell_type": "code",
      "source": [
        "# 55) Write a Python script to merge two Python dictionaries\n",
        "\n",
        "a={1:'a',2:'b'}\n",
        "b={3:'d',2:'c'}\n",
        "\n",
        "c = a.copy()\n",
        "\n",
        "c.update(b)\n",
        "\n",
        "print(c)"
      ],
      "metadata": {
        "id": "ZG1xlAWLfio1"
      },
      "execution_count": null,
      "outputs": []
    },
    {
      "cell_type": "code",
      "source": [
        "# 56) Write a Python program to map two lists into a dictionary\n",
        "#     Sample output: Counter ({'a': 400, 'b': 400,’d’: 400, 'c': 300}).\n",
        "\n",
        "a=['a','b','d','c']\n",
        "b=[1,2,3,4]\n",
        "c={}\n",
        "j=0\n",
        "\n",
        "for i in a:\n",
        "  c.setdefault(a[j],b[j])\n",
        "  j += 1\n",
        "\n",
        "print(c)"
      ],
      "metadata": {
        "id": "49feNfG5kUje"
      },
      "execution_count": null,
      "outputs": []
    },
    {
      "cell_type": "code",
      "source": [
        "# 57) Write a Python program to find the highest 3 values in a dictionary\n",
        "\n",
        "a={'h':5,'j':1,'q':9,'a':7}\n",
        "\n",
        "b=list(a.values())\n",
        "b.sort(reverse=True)\n",
        "\n",
        "for i in range(3):\n",
        "  print(b[i])"
      ],
      "metadata": {
        "id": "KBqU70CinynQ"
      },
      "execution_count": null,
      "outputs": []
    },
    {
      "cell_type": "code",
      "source": [
        "# 58) Write a Python program to combine values in python list of dictionaries.\n",
        "#     Sample data: [{'item': 'item1', 'amount': 400}, {'item': 'item2', 'amount': 300}, o {'item': 'item1', 'amount': 750}]\n",
        "#     Expected Output: • Counter ({'item1': 1150, 'item2': 300})\n",
        "\n",
        "from collections import Counter\n",
        "\n",
        "a = [{'item': 'item1', 'amount': 400}, {'item': 'item2', 'amount': 300}, {'item': 'item1', 'amount': 750}]\n",
        "\n",
        "result = Counter()\n",
        "\n",
        "for d in a:\n",
        "    result[d['item']] += d['amount']\n",
        "\n",
        "print(result)"
      ],
      "metadata": {
        "id": "ypELZcq6p1qa"
      },
      "execution_count": null,
      "outputs": []
    },
    {
      "cell_type": "code",
      "source": [
        "# 59) Write a Python program to create a dictionary from a string.\n",
        "#     Note: Track the count of the letters from the string.\n",
        "\n",
        "a='hello hiren here'\n",
        "b={}\n",
        "\n",
        "for i in a:\n",
        "  b[i] = b.get(i, 0) + 1\n",
        "\n",
        "print(b)"
      ],
      "metadata": {
        "id": "o1f9o-eGs8Y1"
      },
      "execution_count": null,
      "outputs": []
    },
    {
      "cell_type": "code",
      "source": [
        "# 60) Sample string:'w3resource' , Expected output:• {'3': 1,’s’: 1, 'r': 2, 'u': 1, 'w': 1, 'c': 1, 'e': 2, 'o': 1}\n",
        "\n",
        "a='w3resource'\n",
        "b={}\n",
        "\n",
        "for i in a:\n",
        " if i in b:\n",
        "  b[i] += 1\n",
        " else:\n",
        "  b[i] = 1\n",
        "\n",
        "print(b)"
      ],
      "metadata": {
        "id": "sCW0MowvttqG"
      },
      "execution_count": null,
      "outputs": []
    },
    {
      "cell_type": "code",
      "source": [
        "# 61) Write a Python function to calculate the factorial of a number (a nonnegative integer)\n",
        "\n",
        "num=int(input('enter number = '))\n",
        "f=1\n",
        "if num < 0:\n",
        "   print(\"Sorry, factorial does not exist for negative numbers\")\n",
        "elif num == 0:\n",
        "   print(\"The factorial of 0 is 1\")\n",
        "else:\n",
        "   for i in range(1,num + 1):\n",
        "       f = f*i\n",
        "   print(\"The factorial of \", num ,\" is \", f)"
      ],
      "metadata": {
        "id": "e9yrvpDAzHuu"
      },
      "execution_count": null,
      "outputs": []
    },
    {
      "cell_type": "code",
      "source": [
        "# 62) Write a Python function to check whether a number is in a given range\n",
        "\n",
        "num=int(input('enter number = '))\n",
        "start=int(input('enter starting range = '))\n",
        "end=int(input('enter ending range = '))\n",
        "\n",
        "def checkk(num):\n",
        "  if num in range(start,end):\n",
        "    return True\n",
        "  else:\n",
        "    return False\n",
        "\n",
        "checkk(num)"
      ],
      "metadata": {
        "id": "M_fkLPuvzjA4"
      },
      "execution_count": null,
      "outputs": []
    },
    {
      "cell_type": "code",
      "source": [
        "# 63) Write a Python function to check whether a number is perfect or not.\n",
        "#     A perfect number is a positive integer that is equal to the sum of its proper positive divisors (excluding the number itself).\n",
        "\n",
        "num=int(input('enter number = '))\n",
        "\n",
        "def perfect(num):\n",
        "\n",
        "  if num <= 0:\n",
        "      return False\n",
        "\n",
        "  sum_of_divisors = 0\n",
        "\n",
        "  for i in range(1, num):\n",
        "    if num % i == 0:\n",
        "      sum_of_divisors += i\n",
        "\n",
        "  return sum_of_divisors == num\n",
        "\n",
        "perfect(num)"
      ],
      "metadata": {
        "id": "aWNzLnEf0qsi"
      },
      "execution_count": null,
      "outputs": []
    },
    {
      "cell_type": "code",
      "source": [
        "# 64) Write a Python function that checks whether a passed string is palindrome or not\n",
        "#     A palindrome string is a string that reads the same backward as forward.\n",
        "\n",
        "a='level'\n",
        "\n",
        "if(a==a[::-1]):\n",
        "  print('yes')\n",
        "else:\n",
        "  print('no')"
      ],
      "metadata": {
        "id": "5ccfsfUo3C4J"
      },
      "execution_count": null,
      "outputs": []
    },
    {
      "cell_type": "code",
      "source": [
        "'''\n",
        "\n",
        "65) How Many Basic Types of Functions Are Available in Python?\n",
        "\n",
        "    types-2\n",
        "      inbuilt - print,len\n",
        "      user defined - def(have name), lambda(have not name, 1 line function)\n",
        "\n",
        "66) How can you pick a random item from a list or tuple?\n",
        "\n",
        "    To pick a random item from a list or tuple in Python,\n",
        "    the random.choice() function from the random module is used.\n",
        "\n",
        "67) How can you pick a random item from a range?\n",
        "\n",
        "    To pick a random item from a range in Python,\n",
        "    the random.choice() function from the random module is used.\n",
        "    like., random.choice(range(50))\n",
        "\n",
        "68) How can you get a random number in python?\n",
        "\n",
        "    To generate a random number in Python,\n",
        "    randint() function of the built-in random module is used.\n",
        "\n",
        "69) How will you set the starting value in generating random numbers?\n",
        "\n",
        "    random.seed() method in Python is used to initialize the random number generator,\n",
        "    ensuring the same random numbers on every run.\n",
        "    By default, Python generates different numbers each time, but using .seed() allows result reproducibility.\n",
        "\n",
        "70) How will you randomize the items of a list in place?\n",
        "\n",
        "    To randomize the items of a list in place in Python, the random.shuffle() function is used.\n",
        "    This function directly modifies the original list, reordering its elements randomly, and does not return a new list.\n",
        "    like., random.shuffle(my_list)\n",
        "\n",
        "71) What is File function in python? What are keywords to create and write file.\n",
        "\n",
        "    file function is not an actual function anymore. file handling is done using the built-in open() function.\n",
        "    The open() function is used to create, read, write, and append to files.\n",
        "\n",
        "    Create and Write to a File\n",
        "      f = open(\"example.txt\", \"w\")\n",
        "      f.write(\"Hello, this is a test file.\")\n",
        "      f.close()"
      ],
      "metadata": {
        "id": "ZELCwEs7EE6b"
      },
      "execution_count": null,
      "outputs": []
    },
    {
      "cell_type": "code",
      "source": [
        "# 72) Write a Python program to read an entire text file.\n",
        "\n",
        "file1 = (\"example.txt\", \"r\")\n",
        "content = file1.read()\n",
        "print(content)\n",
        "file1.close()"
      ],
      "metadata": {
        "id": "6SGcIhVqEsGY"
      },
      "execution_count": null,
      "outputs": []
    },
    {
      "cell_type": "code",
      "source": [
        "# 73) Write a Python program to append text to a file and display the text.\n",
        "\n",
        "f = open(\"example.txt\", \"a\")\n",
        "f.write(\"This is the appended text.\")\n",
        "f.close()\n",
        "f = open(\"example.txt\", \"r\")\n",
        "content = f.read()\n",
        "print(content)"
      ],
      "metadata": {
        "id": "8ilO7Ec6PURE"
      },
      "execution_count": null,
      "outputs": []
    },
    {
      "cell_type": "code",
      "source": [
        "# 74) Write a Python program to read first n lines of a file.\n",
        "\n",
        "  filename = 'demo.txt'\n",
        "  n=4\n",
        "\n",
        "  try:\n",
        "        f = open(filename, 'r')\n",
        "        for i in range(n):\n",
        "            line = f.readline()\n",
        "            if not line:\n",
        "                break\n",
        "            print(line.strip())\n",
        "  except FileNotFoundError:\n",
        "        print(f\"File '{filename}' not found.\")\n",
        "  except Exception as e:\n",
        "        print(f\"An error occurred: {e}\")"
      ],
      "metadata": {
        "id": "T3zga2z4P8xt"
      },
      "execution_count": null,
      "outputs": []
    },
    {
      "cell_type": "code",
      "source": [
        "# 75) Write a Python program to read last n lines of a file.\n",
        "\n",
        "filename = 'demo.txt'\n",
        "n=4\n",
        "\n",
        "try:\n",
        "        f = open(filename, 'r')\n",
        "        lines = f.readlines()\n",
        "        last_lines = lines[-n:]\n",
        "        for line in last_lines:\n",
        "            print(line.strip())\n",
        "\n",
        "except FileNotFoundError:\n",
        "        print(f\"File '{filename}' not found.\")\n",
        "except Exception as e:\n",
        "        print(f\"An error occurred: {e}\")"
      ],
      "metadata": {
        "id": "LGvSxSg7TFx6"
      },
      "execution_count": null,
      "outputs": []
    },
    {
      "cell_type": "code",
      "source": [
        "# 76) Write a Python program to read a file line by line and store it into a list\n",
        "\n",
        "filename = 'demo.txt'\n",
        "a=[]\n",
        "\n",
        "try:\n",
        "        f = open(filename, 'r')\n",
        "        for i in f.readlines():\n",
        "            a.append(i.strip())\n",
        "            if not i:\n",
        "                break\n",
        "        print(a)\n",
        "except FileNotFoundError:\n",
        "        print(f\"File '{filename}' not found.\")\n",
        "except Exception as e:\n",
        "        print(f\"An error occurred: {e}\")"
      ],
      "metadata": {
        "id": "1bPTE5RkUtUu"
      },
      "execution_count": null,
      "outputs": []
    },
    {
      "cell_type": "code",
      "source": [
        "# 77) Write a Python program to read a file line by line store it into a variable.\n",
        "\n",
        "filename = 'demo.txt'\n",
        "\n",
        "try:\n",
        "      f = open(filename, 'r')\n",
        "      line = f.read()\n",
        "      print(line)\n",
        "except FileNotFoundError:\n",
        "      print(f\"File '{filename}' not found.\")\n",
        "except Exception as e:\n",
        "      print(f\"An error occurred: {e}\")"
      ],
      "metadata": {
        "id": "sSGx79ztXBtf"
      },
      "execution_count": null,
      "outputs": []
    },
    {
      "cell_type": "code",
      "source": [
        "# 78) Write a python program to find the longest words.\n",
        "\n",
        "filename = 'demo.txt'\n",
        "a=[]\n",
        "\n",
        "try:\n",
        "      f = open(filename, 'r')\n",
        "      words = f.read().split()\n",
        "      max_len = len(max(words, key=len))\n",
        "      for word in words:\n",
        "        if len(word) == max_len:\n",
        "          a.append(word)\n",
        "      print(a)\n",
        "\n",
        "except FileNotFoundError:\n",
        "      print(f\"File '{filename}' not found.\")\n",
        "except Exception as e:\n",
        "      print(f\"An error occurred: {e}\")"
      ],
      "metadata": {
        "id": "V9ad5Ba8YPsP"
      },
      "execution_count": null,
      "outputs": []
    },
    {
      "cell_type": "code",
      "source": [
        "# 79) Write a Python program to count the number of lines in a text file.\n",
        "\n",
        "filename = 'demo.txt'\n",
        "a=0\n",
        "\n",
        "try:\n",
        "      f = open(filename, 'r')\n",
        "      lines = f.readlines()\n",
        "      for i in lines:\n",
        "        a += 1\n",
        "      print(a)\n",
        "except FileNotFoundError:\n",
        "      print(f\"File '{filename}' not found.\")\n",
        "except Exception as e:\n",
        "      print(f\"An error occurred: {e}\")"
      ],
      "metadata": {
        "id": "y-R7dvkybUN8"
      },
      "execution_count": null,
      "outputs": []
    },
    {
      "cell_type": "code",
      "source": [
        "# 80) Write a Python program to count the frequency of words in a file.\n",
        "\n",
        "filename = 'demo.txt'\n",
        "a=[]\n",
        "b=[]\n",
        "\n",
        "try:\n",
        "      f = open(filename, 'r')\n",
        "      words = f.read().split()\n",
        "\n",
        "      for word in words:\n",
        "          a.append(word.strip())\n",
        "\n",
        "      for word in words:\n",
        "          if b.count(word) == 0:\n",
        "            b.append(word)\n",
        "\n",
        "      for word in b:\n",
        "          print(word, ' = ', a.count(word))\n",
        "\n",
        "except FileNotFoundError:\n",
        "      print(f\"File '{filename}' not found.\")\n",
        "except Exception as e:\n",
        "      print(f\"An error occurred: {e}\")"
      ],
      "metadata": {
        "id": "R-1REctFb3lj"
      },
      "execution_count": null,
      "outputs": []
    },
    {
      "cell_type": "code",
      "source": [
        "# 81) Write a Python program to write a list to a file.\n",
        "\n",
        "a=[1,'hiren',12.5,'sunny','raju']\n",
        "f = open('demo.txt','w')\n",
        "\n",
        "for i in a:\n",
        "  f.write(str(i)+'\\n')\n",
        "\n",
        "f = open('demo.txt','r')\n",
        "print(f.read())"
      ],
      "metadata": {
        "id": "lOj4ilm9kKPU"
      },
      "execution_count": 7,
      "outputs": []
    },
    {
      "cell_type": "code",
      "source": [
        "# 82) Write a Python program to copy the contents of a file to another file.\n",
        "\n",
        "f = open('demo.txt','r')\n",
        "c = f.read()\n",
        "f.close()\n",
        "\n",
        "f1 = open('new.txt','w')\n",
        "f1.write(c)\n",
        "f1.close()"
      ],
      "metadata": {
        "id": "qhT9D4fuxBOb"
      },
      "execution_count": 12,
      "outputs": []
    },
    {
      "cell_type": "code",
      "source": [
        "'''\n",
        "\n",
        "83) Explain Exception handling? What is an Error in Python?\n",
        "\n",
        "  Exception handling allows a program to catch and respond to errors without crashing.\n",
        "  Python provides the try, except, else, and finally blocks for this.\n",
        "\n",
        "  Basic Syntax:\n",
        "\n",
        "      try:\n",
        "          # Code that may raise an exception\n",
        "          risky_code()\n",
        "      except SomeException as e:\n",
        "          # Code to handle the exception\n",
        "          print(\"An error occurred:\", e)\n",
        "      else:\n",
        "          # Runs if no exception occurs\n",
        "          print(\"Success!\")\n",
        "      finally:\n",
        "          # Runs no matter what\n",
        "          print(\"This always runs.\")\n",
        "\n",
        "  An error is a problem in a program that causes it to stop running.\n",
        "  In Python, errors are broadly classified into two types:\n",
        "\n",
        "      1. Syntax Errors\n",
        "      These occur when Python code is not written correctly according to the language rules.\n",
        "      2. Exceptions (Runtime Errors)\n",
        "      These occur while the program is running, often due to operations that are illegal or unexpected.\n",
        "\n",
        "\n",
        "84) How many except statements can a try-except block have? Name Some built-in exception classes.\n",
        "\n",
        "    we can have as many except blocks as needed after a try block. Each except can handle a different type of exception.\n",
        "\n",
        "    Some Built-in Exception Classes :\n",
        "      ZeroDivisionError\t- Raised when dividing by zero\n",
        "      ValueError\t- Raised when a value is invalid\n",
        "      TypeError\t- Raised when a wrong data type is used\n",
        "      IndexError\t- Raised when list index is out of range\n",
        "      FileNotFoundError\t- Raised when a file operation fails\n",
        "      IOError\t- Raised for input/output operation errors\n",
        "\n",
        "\n",
        "85) When will the else part of try-except-else be executed?\n",
        "\n",
        "    The else block is executed only if no exception is raised in the try block.\n",
        "\n",
        "    Flow:\n",
        "\n",
        "        try: Runs the code.\n",
        "        If no error → except is skipped → else block runs.\n",
        "        If an exception occurs → except block runs → else is skipped.\n",
        "\n",
        "86) Can one block of except statements handle multiple exception?\n",
        "\n",
        "    Yes, a single except block in Python can handle multiple exceptions by grouping them in a tuple.\n",
        "\n",
        "    except (TypeError, ValueError) as e:\n",
        "      print(\"Caught a TypeError or ValueError:\", e)\n",
        "\n",
        "87) When is the finally block executed?\n",
        "\n",
        "    The finally block is always executed, no matter what happens in the try or except blocks.\n",
        "\n",
        "88) What happens when „1‟== 1 is executed?\n",
        "\n",
        "    \"1\" is a string\n",
        "    1 is an integer\n",
        "    Python does not perform implicit type conversion in equality comparison (==)\n",
        "    Since the data types differ, the comparison returns False.\n",
        "\n",
        "89) How Do You Handle Exceptions with Try/Except/Finally in Python? Explain with coding snippets.\n",
        "\n",
        "    Python provides structured blocks to catch and manage errors gracefully using:\n",
        "      try: Code that might raise an exception\n",
        "      except: Code to handle the exception\n",
        "      finally: Code that will always run (used for cleanup)\n",
        "\n",
        "    program:\n",
        "        try:\n",
        "            num = int(input(\"Enter a number: \"))\n",
        "            result = 10 / num\n",
        "            print(\"Result:\", result)\n",
        "        except ZeroDivisionError:\n",
        "            print(\"You cannot divide by zero.\")\n",
        "        except ValueError:\n",
        "            print(\"Invalid input. Please enter a valid number.\")\n",
        "        finally:\n",
        "            print(\"This block always executes.\")\n",
        "\n",
        "    input : 0\n",
        "\n",
        "    output :\n",
        "        You cannot divide by zero.\n",
        "        This block always executes."
      ],
      "metadata": {
        "id": "cb_JLco1yRLB"
      },
      "execution_count": null,
      "outputs": []
    },
    {
      "cell_type": "code",
      "source": [
        "# 90) Write python program that user to enter only odd numbers, else will raise an exception.\n",
        "\n",
        "a=int(input('enter only odd numbers : '))\n",
        "\n",
        "try :\n",
        "  if a%2 == 0:\n",
        "    raise ValueError\n",
        "except ValueError as e:\n",
        "  print('you entered even number')"
      ],
      "metadata": {
        "id": "lQ1uinXa33KY"
      },
      "execution_count": null,
      "outputs": []
    }
  ],
  "metadata": {
    "colab": {
      "provenance": []
    },
    "kernelspec": {
      "display_name": "Python 3",
      "name": "python3"
    }
  },
  "nbformat": 4,
  "nbformat_minor": 0
}