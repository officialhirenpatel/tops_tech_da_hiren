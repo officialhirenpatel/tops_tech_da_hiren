{
  "nbformat": 4,
  "nbformat_minor": 0,
  "metadata": {
    "colab": {
      "provenance": []
    },
    "kernelspec": {
      "name": "python3",
      "display_name": "Python 3"
    },
    "language_info": {
      "name": "python"
    }
  },
  "cells": [
    {
      "cell_type": "code",
      "source": [
        "import numpy as np\n",
        "import pandas as pd\n",
        "import matplotlib.pyplot as plt\n",
        "import seaborn as sns"
      ],
      "metadata": {
        "id": "_vfuozkMYAgw"
      },
      "execution_count": 1,
      "outputs": []
    },
    {
      "cell_type": "code",
      "execution_count": null,
      "metadata": {
        "id": "rY5GOLwBW-Bo"
      },
      "outputs": [],
      "source": [
        "### Assessment 1: Financial Analysis"
      ]
    },
    {
      "cell_type": "code",
      "source": [
        "df=pd.read_csv(\"/content/finance_economics_dataset.csv\", encoding='latin-1')\n",
        "df"
      ],
      "metadata": {
        "id": "QI3jbwW_XdpI"
      },
      "execution_count": null,
      "outputs": []
    },
    {
      "cell_type": "code",
      "source": [
        "# 1. What is the shape of the dataset?\n",
        "df.shape"
      ],
      "metadata": {
        "id": "qMA6IYBUXdx4"
      },
      "execution_count": null,
      "outputs": []
    },
    {
      "cell_type": "code",
      "source": [
        "# 2. What are the column names and their data types?\n",
        "df.dtypes"
      ],
      "metadata": {
        "id": "Zk1lpka5Xd0y"
      },
      "execution_count": null,
      "outputs": []
    },
    {
      "cell_type": "code",
      "source": [
        "# 3. How many unique stock indices are there?\n",
        "df['Stock Index'].unique()"
      ],
      "metadata": {
        "id": "uPCHDj4vXd3q"
      },
      "execution_count": null,
      "outputs": []
    },
    {
      "cell_type": "code",
      "source": [
        "# 4. What is the date range of the dataset?\n",
        "df['Date'].sort_values(ascending=True)"
      ],
      "metadata": {
        "id": "nPz5ABD3aagg"
      },
      "execution_count": null,
      "outputs": []
    },
    {
      "cell_type": "code",
      "source": [
        "# 5. Are there any missing values?\n",
        "df.info()"
      ],
      "metadata": {
        "id": "hJ83Sy_HcOip"
      },
      "execution_count": null,
      "outputs": []
    },
    {
      "cell_type": "code",
      "source": [
        "# 6. Are there negative values in columns that should be non-negative?\n",
        "df[df['GDP Growth (%)']<0]"
      ],
      "metadata": {
        "id": "elCdgHD4cOlR"
      },
      "execution_count": null,
      "outputs": []
    },
    {
      "cell_type": "code",
      "source": [
        "# 7. What is the summary of GDP Growth (%)?\n",
        "df['GDP Growth (%)'].sort_values(ascending=True)"
      ],
      "metadata": {
        "id": "aYQePbfzeoaf"
      },
      "execution_count": null,
      "outputs": []
    },
    {
      "cell_type": "code",
      "source": [
        "# 8. Are there rows with zero or near-zero trading volume?\n",
        "df[df['Trading Volume']<1]"
      ],
      "metadata": {
        "id": "_Trn7Pdweodu"
      },
      "execution_count": null,
      "outputs": []
    },
    {
      "cell_type": "code",
      "source": [
        "# 9. Are there any duplicate rows?\n",
        "for a in df.duplicated():\n",
        "  if a=='True':\n",
        "    print('yes')"
      ],
      "metadata": {
        "id": "JW3jpxPkeogj"
      },
      "execution_count": null,
      "outputs": []
    },
    {
      "cell_type": "code",
      "source": [
        "# 10. Are there outliers in GDP, Gold, or Oil prices?\n",
        "\n",
        "cols_of_interest = [\"GDP Growth (%)\",\n",
        "                    \"Crude Oil Price (USD per Barrel)\",\n",
        "                    \"Gold Price (USD per Ounce)\"]\n",
        "\n",
        "plt.figure(figsize=(12, 6))\n",
        "df[cols_of_interest].boxplot()\n",
        "plt.title(\"Boxplot of GDP Growth, Crude Oil Price, and Gold Price\")\n",
        "plt.ylabel(\"Value\")\n",
        "plt.xticks(rotation=15)\n",
        "plt.show()\n",
        "\n",
        "# none of them showed statistical outliers."
      ],
      "metadata": {
        "id": "l5Kz8pkneok-"
      },
      "execution_count": null,
      "outputs": []
    },
    {
      "cell_type": "code",
      "source": [
        "# 11. What is the summary of Inflation Rate (%)?\n",
        "df['Inflation Rate (%)'].sort_values(ascending=True)"
      ],
      "metadata": {
        "id": "k8yyucAIeop-"
      },
      "execution_count": null,
      "outputs": []
    },
    {
      "cell_type": "code",
      "source": [
        "# 12. What is the average unemployment rate?\n",
        "df['Unemployment Rate (%)'].mean()"
      ],
      "metadata": {
        "id": "gHb_FjuAjk2u"
      },
      "execution_count": null,
      "outputs": []
    },
    {
      "cell_type": "code",
      "source": [
        "# 13. Which index has the highest trading volume?\n",
        "df.groupby('Stock Index')['Trading Volume'].sum().sort_values(ascending=False).reset_index()"
      ],
      "metadata": {
        "id": "e7VFCFctjk5m"
      },
      "execution_count": null,
      "outputs": []
    },
    {
      "cell_type": "code",
      "source": [
        "# 14. How many stock records are from each index?\n",
        "df.groupby('Stock Index')['Open Price'].count()"
      ],
      "metadata": {
        "id": "JwIOrLjNjk8P"
      },
      "execution_count": null,
      "outputs": []
    },
    {
      "cell_type": "code",
      "source": [
        "# 15. What is the correlation between inflation and interest rate?\n",
        "df[['Inflation Rate (%)','Interest Rate (%)']].corr()"
      ],
      "metadata": {
        "id": "OAzI8ummmnPO"
      },
      "execution_count": null,
      "outputs": []
    },
    {
      "cell_type": "code",
      "source": [
        "# 16. What is the average Consumer Confidence Index?\n",
        "df['Consumer Confidence Index'].mean()"
      ],
      "metadata": {
        "id": "UEabPGDYnVZl"
      },
      "execution_count": null,
      "outputs": []
    },
    {
      "cell_type": "code",
      "source": [
        "# 17. Which column has the highest standard deviation?\n",
        "  # Trading Volume\n",
        "  # =STDEV.S(A$2:A$3001)"
      ],
      "metadata": {
        "id": "51rOPLybngyc"
      },
      "execution_count": null,
      "outputs": []
    },
    {
      "cell_type": "code",
      "source": [
        "# 18. What is the highest gold price recorded?\n",
        "df['Gold Price (USD per Ounce)'].max()"
      ],
      "metadata": {
        "id": "TfQDtogsng1E"
      },
      "execution_count": null,
      "outputs": []
    },
    {
      "cell_type": "code",
      "source": [
        "# 19. Which date had the highest crude oil price?\n",
        "\n",
        "# Find the row with the highest crude oil price\n",
        "max_oil_row = df.loc[df[\"Crude Oil Price (USD per Barrel)\"].idxmax(),\n",
        "                     [\"Date\", \"Crude Oil Price (USD per Barrel)\"]]\n",
        "\n",
        "print(\"Date with highest crude oil price:\", max_oil_row[\"Date\"])\n",
        "print(\"Highest crude oil price:\", max_oil_row[\"Crude Oil Price (USD per Barrel)\"])"
      ],
      "metadata": {
        "id": "a-b6mXiong3t"
      },
      "execution_count": null,
      "outputs": []
    },
    {
      "cell_type": "code",
      "source": [
        "# 20. What is the average corporate profit?\n",
        "df['Corporate Profits (Billion USD)'].mean()"
      ],
      "metadata": {
        "id": "qjv6iq37r218"
      },
      "execution_count": null,
      "outputs": []
    },
    {
      "cell_type": "code",
      "source": [],
      "metadata": {
        "id": "mTzWhYTxvgW7"
      },
      "execution_count": null,
      "outputs": []
    },
    {
      "cell_type": "code",
      "source": [],
      "metadata": {
        "id": "T5d2-q5lvhSi"
      },
      "execution_count": null,
      "outputs": []
    },
    {
      "cell_type": "code",
      "source": [
        "### Assessment 2: Retail Sales Analysis"
      ],
      "metadata": {
        "id": "h0I2CiaftXio"
      },
      "execution_count": null,
      "outputs": []
    },
    {
      "cell_type": "code",
      "source": [
        "df=pd.read_csv(\"/content/Retail Data.csv\", encoding='latin-1')\n",
        "df"
      ],
      "metadata": {
        "id": "cNciCzMxtY1_"
      },
      "execution_count": null,
      "outputs": []
    },
    {
      "cell_type": "code",
      "source": [
        "# 1. View the structure of the dataset (columns, types, missing values).\n",
        "df.info()"
      ],
      "metadata": {
        "id": "rQprBsTqtY43"
      },
      "execution_count": null,
      "outputs": []
    },
    {
      "cell_type": "code",
      "source": [
        "# 2. What is the shape (rows, columns) of the dataset?\n",
        "df.shape"
      ],
      "metadata": {
        "id": "R4f7yQzhtY7l"
      },
      "execution_count": null,
      "outputs": []
    },
    {
      "cell_type": "code",
      "source": [
        "# 3. Are there any duplicate records?\n",
        "for a in df.duplicated():\n",
        "  if a=='True':\n",
        "    print('yes')"
      ],
      "metadata": {
        "id": "j_zvhR5htY9z"
      },
      "execution_count": null,
      "outputs": []
    },
    {
      "cell_type": "code",
      "source": [
        "# 4. Are there any missing or corrupted entries in Ship Date, Order Date, or numeric columns?\n",
        "\n",
        "missing_values = df.isnull().sum()\n",
        "print(\"Missing values per column:\")\n",
        "print(missing_values[missing_values > 0])\n",
        "\n",
        "# To see the actual rows with missing values in a specific column:\n",
        "# print(df[df['Address'].isnull()])\n",
        "# print(df[df['Address'].isnull()].to_excel('output.xlsx', index=False))\n",
        "# print(df[df['Order Quantity'].isnull()])\n",
        "# print(df[df['Order Quantity'].isnull()].to_excel('output.xlsx', index=False))"
      ],
      "metadata": {
        "id": "uP17jwUftZEi"
      },
      "execution_count": null,
      "outputs": []
    },
    {
      "cell_type": "code",
      "source": [
        "# 5. Convert Order Date and Ship Date to datetime.\n",
        "df['Order Date'] = pd.to_datetime(df['Order Date'], format='mixed')\n",
        "df['Ship Date'] = pd.to_datetime(df['Ship Date'], format='mixed')\n",
        "df"
      ],
      "metadata": {
        "id": "wHQNr2qO3uCt"
      },
      "execution_count": null,
      "outputs": []
    },
    {
      "cell_type": "code",
      "source": [
        "# 6. Check for future or inconsistent shipping dates.\n",
        "\n",
        "# Convert dates to datetime\n",
        "df[\"Order Date\"] = pd.to_datetime(df[\"Order Date\"], errors=\"coerce\", dayfirst=True)\n",
        "df[\"Ship Date\"] = pd.to_datetime(df[\"Ship Date\"], errors=\"coerce\", dayfirst=True)\n",
        "\n",
        "# Today's date for future check\n",
        "today = pd.Timestamp.today().normalize()\n",
        "\n",
        "# Condition 1: Future Shipping Dates\n",
        "future_ship = df[df[\"Ship Date\"] > today]\n",
        "\n",
        "# Condition 2: Inconsistent Dates (Ship Date before Order Date)\n",
        "inconsistent_dates = df[df[\"Ship Date\"] < df[\"Order Date\"]]\n",
        "\n",
        "# Show results\n",
        "print(\"Future Shipping Dates:\")\n",
        "print(future_ship[[\"ï»¿Order No\", \"Order Date\", \"Ship Date\", \"Customer Name\"]])\n",
        "\n",
        "print(\"\\nInconsistent Shipping Dates:\")\n",
        "print(inconsistent_dates[[\"ï»¿Order No\", \"Order Date\", \"Ship Date\", \"Customer Name\"]])"
      ],
      "metadata": {
        "id": "u7pP8qkc3uFP"
      },
      "execution_count": null,
      "outputs": []
    },
    {
      "cell_type": "code",
      "source": [
        "# 7. Convert price columns to numeric (remove $ and commas).\n",
        "\n",
        "# List of columns that contain prices\n",
        "price_cols = [\n",
        "    \"Cost Price\", \"Retail Price\", \"Profit Margin\",\n",
        "    \"Sub Total\", \"Discount $\", \"Order Total\",\n",
        "    \"Shipping Cost\", \"Total\"\n",
        "]\n",
        "\n",
        "# Remove $ and commas, then convert to float\n",
        "for col in price_cols:\n",
        "    df[col] = df[col].replace('[$,]', '', regex=True).astype(float)\n",
        "\n",
        "# Verify changes\n",
        "print(df[price_cols])"
      ],
      "metadata": {
        "id": "xrkHPCOB3uHx"
      },
      "execution_count": null,
      "outputs": []
    },
    {
      "cell_type": "code",
      "source": [
        "# 8. What are the unique values in Customer Type and Order Priority?\n",
        "\n",
        "print(df[\"Customer Type\"].unique())\n",
        "print(df[\"Order Priority\"].unique())"
      ],
      "metadata": {
        "id": "NWmqwpmg3uKY"
      },
      "execution_count": null,
      "outputs": []
    },
    {
      "cell_type": "code",
      "source": [
        "# 9. What are the most common shipping modes?\n",
        "\n",
        "df[\"Ship Mode\"].value_counts().reset_index()"
      ],
      "metadata": {
        "id": "duIG5wJF_drk"
      },
      "execution_count": null,
      "outputs": []
    },
    {
      "cell_type": "code",
      "source": [
        "# 10. Which cities have the highest number of orders?\n",
        "df[\"City\"].value_counts().reset_index()"
      ],
      "metadata": {
        "id": "qQMaL665_dxI"
      },
      "execution_count": null,
      "outputs": []
    },
    {
      "cell_type": "code",
      "source": [
        "# 11. What’s the range of order quantities and prices?\n",
        "df['Order Quantity'].max() - df['Order Quantity'].min()\n",
        "# df['Cost Price'].max() - df['Cost Price'].min()\n",
        "# df['Retail Price'].max() - df['Retail Price'].min()"
      ],
      "metadata": {
        "id": "Q6AEwWjQ_d2F"
      },
      "execution_count": null,
      "outputs": []
    },
    {
      "cell_type": "code",
      "source": [
        "# 12. Create a new column for shipping duration.\n",
        "\n",
        "# Make columns are in datetime format\n",
        "df[\"Ship Date\"] = pd.to_datetime(df[\"Ship Date\"], format='mixed')\n",
        "df[\"Order Date\"] = pd.to_datetime(df[\"Order Date\"], format='mixed')\n",
        "\n",
        "# Calculate difference (in days)\n",
        "df[\"DateDifference\"] = (df[\"Ship Date\"] - df[\"Order Date\"]).dt.days\n",
        "\n",
        "print(df[[\"Order Date\", \"Ship Date\", \"DateDifference\"]])"
      ],
      "metadata": {
        "id": "PlrIzZMeB_Gs"
      },
      "execution_count": null,
      "outputs": []
    },
    {
      "cell_type": "code",
      "source": [
        "# 13. Are there any orders with zero or negative total or quantity?\n",
        "print((df['Order Quantity'] <= 0).any())"
      ],
      "metadata": {
        "id": "6OoPNB91B_Ja"
      },
      "execution_count": null,
      "outputs": []
    },
    {
      "cell_type": "code",
      "source": [
        "# 14. Are all discount percentages matching discount dollar amounts?\n"
      ],
      "metadata": {
        "id": "nL41KY68B_Ot"
      },
      "execution_count": 15,
      "outputs": []
    },
    {
      "cell_type": "code",
      "source": [
        "# 15. Check for mismatches in total calculation.\n",
        "\n",
        "# Clean numeric columns\n",
        "currency_cols = [\"Sub Total\", \"Discount $\", \"Order Total\", \"Shipping Cost\", \"Total\"]\n",
        "for col in currency_cols:\n",
        "    df[col] = df[col].replace('[\\$,]', '', regex=True).astype(float)\n",
        "\n",
        "# Recalculate expected total:\n",
        "df[\"Expected Total\"] = (df[\"Sub Total\"] - df[\"Discount $\"]) + df[\"Shipping Cost\"]\n",
        "\n",
        "# Find mismatches (allowing small rounding tolerance)\n",
        "mismatches = df[abs(df[\"Expected Total\"] - df[\"Total\"]) > 0.01]\n",
        "\n",
        "print(\"Number of mismatches:\", len(mismatches))\n",
        "print(\"Total rows:\", len(df))\n",
        "\n",
        "# Show a few mismatches\n",
        "print(mismatches.head())"
      ],
      "metadata": {
        "id": "TOc_MfJQmjmr"
      },
      "execution_count": null,
      "outputs": []
    },
    {
      "cell_type": "code",
      "source": [
        "# 16. Identify top 5 products by order quantity.\n",
        "df.groupby('Product Name')['Order Quantity'].sum().sort_values(ascending=False).head().reset_index()"
      ],
      "metadata": {
        "id": "c6QF5T9CnCoL"
      },
      "execution_count": null,
      "outputs": []
    },
    {
      "cell_type": "code",
      "source": [
        "# 17. Which Account Manager handled the most revenue?\n",
        "df[\"Total\"].replace('[\\$,]', '', regex=True).astype(float)\n",
        "df.groupby(\"Account Manager\")[\"Total\"].sum().sort_values(ascending=False).head(1).reset_index()"
      ],
      "metadata": {
        "id": "6Anm-irGnCtr"
      },
      "execution_count": null,
      "outputs": []
    },
    {
      "cell_type": "code",
      "source": [
        "# 18. What is the average shipping cost by mode?\n",
        "\n",
        "#df.dropna()\n",
        "df[\"Shipping Cost\"] = df[\"Shipping Cost\"].replace('[$,]', '', regex=True).astype(float)\n",
        "df.groupby(\"Ship Mode\")[\"Shipping Cost\"].mean().reset_index()\n"
      ],
      "metadata": {
        "id": "ISAuQDhHnCwo"
      },
      "execution_count": null,
      "outputs": []
    },
    {
      "cell_type": "code",
      "source": [
        "# 19/20. Find the most profitable product.\n",
        "\n",
        "df[\"Profit Margin\"] = df[\"Profit Margin\"].replace('[$]', '', regex=True).astype(float)\n",
        "df.groupby(\"Product Name\")[\"Profit Margin\"].sum().sort_values(ascending=False).head(1).reset_index()"
      ],
      "metadata": {
        "id": "B0J1xTx15H9R"
      },
      "execution_count": null,
      "outputs": []
    }
  ]
}